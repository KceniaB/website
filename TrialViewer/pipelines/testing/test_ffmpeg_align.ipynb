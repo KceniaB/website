{
 "cells": [
  {
   "cell_type": "code",
   "execution_count": 1,
   "metadata": {},
   "outputs": [
    {
     "name": "stderr",
     "output_type": "stream",
     "text": [
      "c:\\Users\\Dan\\.conda\\envs\\iblenv\\lib\\site-packages\\numpy\\_distributor_init.py:30: UserWarning: loaded more than 1 DLL from .libs:\n",
      "c:\\Users\\Dan\\.conda\\envs\\iblenv\\lib\\site-packages\\numpy\\.libs\\libopenblas.FB5AE2TYXYH2IJRDKGDGQ3XBKLKTF43H.gfortran-win_amd64.dll\n",
      "c:\\Users\\Dan\\.conda\\envs\\iblenv\\lib\\site-packages\\numpy\\.libs\\libopenblas.GK7GX5KEQ4F6UYO3P26ULGBQYHGQO7J4.gfortran-win_amd64.dll\n",
      "  warnings.warn(\"loaded more than 1 DLL from .libs:\"\n"
     ]
    }
   ],
   "source": [
    "import numpy as np\n",
    "import pandas as pd\n",
    "import requests\n",
    "import subprocess\n",
    "import time\n",
    "from os.path import exists\n",
    "from one.api import ONE\n",
    "one = ONE(base_url='https://alyx.internationalbrainlab.org')\n",
    "import datetime\n",
    "import matplotlib.pyplot as plt\n",
    "\n",
    "RAW_FOLDER = 'D:/ibl-website-videos/raw'\n",
    "PROC_FOLDER = 'D:/ibl-website-videos/proc'\n",
    "DATA_FOLDER = './data'\n",
    "\n",
    "# get username/password\n",
    "with open('../username.txt') as f:\n",
    "    username = f.readlines()\n",
    "    username = username[0]\n",
    "with open('../password.txt') as f:\n",
    "    password = f.readlines()\n",
    "    password = password[0]"
   ]
  },
  {
   "cell_type": "code",
   "execution_count": 2,
   "metadata": {},
   "outputs": [],
   "source": [
    "pid = '03c42ea1-1e04-4a3e-9b04-46d8568dcd02'\n",
    "\n",
    "left_ts = np.load(f'D:/ibl-website-videos/proc/{pid}_left_times.npy')\n",
    "right_ts = np.load(f'D:/ibl-website-videos/proc/{pid}_right_times.npy')\n",
    "body_ts = np.load(f'D:/ibl-website-videos/proc/{pid}_body_times.npy')"
   ]
  },
  {
   "cell_type": "code",
   "execution_count": 3,
   "metadata": {},
   "outputs": [
    {
     "name": "stdout",
     "output_type": "stream",
     "text": [
      "(19.815951540019817, 19.78198827001978)\n"
     ]
    }
   ],
   "source": [
    "print((left_ts[0], right_ts[0]))"
   ]
  },
  {
   "cell_type": "code",
   "execution_count": 4,
   "metadata": {},
   "outputs": [
    {
     "name": "stdout",
     "output_type": "stream",
     "text": [
      "[0.01663167 0.016665   0.01663167 ... 0.01663167 0.016665   0.01663167]\n",
      "[0.01993134 0.00663267 0.006666   ... 0.006666   0.00663267 0.006666  ]\n",
      "[0.03316335 0.03319668 0.03316335 ... 0.03319668 0.03316335 0.03316335]\n"
     ]
    }
   ],
   "source": [
    "print(np.diff(left_ts))\n",
    "print(np.diff(right_ts))\n",
    "print(np.diff(body_ts))"
   ]
  },
  {
   "cell_type": "code",
   "execution_count": 19,
   "metadata": {},
   "outputs": [],
   "source": [
    "left_fr = 1/np.mean(np.diff(left_ts))\n",
    "right_fr = 1/np.mean(np.diff(right_ts))\n",
    "body_fr = 1/np.mean(np.diff(body_ts))\n",
    "framerates = [left_fr, right_fr, body_fr]"
   ]
  },
  {
   "cell_type": "code",
   "execution_count": 6,
   "metadata": {},
   "outputs": [
    {
     "data": {
      "text/plain": [
       "array([0.01663167, 0.01663167, 0.01663167, 0.01663167, 0.01663167,\n",
       "       0.01663167, 0.01663167, 0.01663167, 0.01663167, 0.01663167,\n",
       "       0.01663167, 0.016665  , 0.016665  , 0.016665  , 0.016665  ,\n",
       "       0.016665  , 0.016665  , 0.016665  , 0.016665  , 0.016665  ,\n",
       "       0.016665  ])"
      ]
     },
     "execution_count": 6,
     "metadata": {},
     "output_type": "execute_result"
    }
   ],
   "source": [
    "np.unique(np.diff(left_ts))"
   ]
  },
  {
   "cell_type": "code",
   "execution_count": 7,
   "metadata": {},
   "outputs": [
    {
     "data": {
      "text/plain": [
       "60.006000600060005"
      ]
     },
     "execution_count": 7,
     "metadata": {},
     "output_type": "execute_result"
    }
   ],
   "source": [
    "1/0.016665"
   ]
  },
  {
   "cell_type": "code",
   "execution_count": 8,
   "metadata": {},
   "outputs": [
    {
     "data": {
      "text/plain": [
       "60.12625310627255"
      ]
     },
     "execution_count": 8,
     "metadata": {},
     "output_type": "execute_result"
    }
   ],
   "source": [
    "1/0.01663167"
   ]
  },
  {
   "cell_type": "code",
   "execution_count": 9,
   "metadata": {},
   "outputs": [],
   "source": [
    "# Load the first trial time and last trial time\n",
    "trials = pd.read_csv(f'../{DATA_FOLDER}/{pid}/{pid}_trials.csv')"
   ]
  },
  {
   "cell_type": "code",
   "execution_count": 10,
   "metadata": {},
   "outputs": [],
   "source": [
    "def ffmpeg_time_format(time_s):\n",
    "  date = datetime.timedelta(seconds = time_s)\n",
    "  \n",
    "  return str(date)"
   ]
  },
  {
   "cell_type": "code",
   "execution_count": 11,
   "metadata": {},
   "outputs": [
    {
     "name": "stdout",
     "output_type": "stream",
     "text": [
      "(21.153517750023155, 2742.867119212741)\n",
      "('0:00:21.153518', '0:45:21.713601')\n"
     ]
    }
   ],
   "source": [
    "start = trials.start_timestamp.values[0] - 2\n",
    "end = trials.feedback_timestamp.values[-1] + 2\n",
    "print((start, end))\n",
    "\n",
    "start_t = ffmpeg_time_format(start)\n",
    "length_t = ffmpeg_time_format(end-start)\n",
    "print((start_t,length_t))"
   ]
  },
  {
   "cell_type": "code",
   "execution_count": 12,
   "metadata": {},
   "outputs": [
    {
     "name": "stdout",
     "output_type": "stream",
     "text": [
      "1.337566210003338\n"
     ]
    }
   ],
   "source": [
    "print(start - left_ts[0])"
   ]
  },
  {
   "cell_type": "code",
   "execution_count": 20,
   "metadata": {},
   "outputs": [
    {
     "name": "stdout",
     "output_type": "stream",
     "text": [
      "Running left\n",
      "Running right\n",
      "Running body\n"
     ]
    }
   ],
   "source": [
    "# trim all videos to match the timestamps above\n",
    "videos = ['left','right','body']\n",
    "timestamps = [left_ts, right_ts, body_ts]\n",
    "\n",
    "length_t = ffmpeg_time_format(end-start)\n",
    "\n",
    "for i, video in enumerate(videos):\n",
    "  print(f'Running {video}')\n",
    "  ts = timestamps[i]\n",
    "\n",
    "  input = f'{RAW_FOLDER}/{pid}_{video}.mp4'\n",
    "  out = f'D:/ibl-website-videos/proc/test/{video}.mp4'\n",
    "  \n",
    "  # check if start is actually before ts[0], that would be bad\n",
    "  if (ts[0] > start):\n",
    "    print('First timestamp is after first trial start... bad')\n",
    "    continue\n",
    "  \n",
    "  start_t = ffmpeg_time_format(start - ts[0])\n",
    "\n",
    "  # call_str = f'ffmpeg -i {input} -ss {start_t} -t {length_t} -vf fps=24,scale=160:128 {out}'\n",
    "  call = subprocess.call(['ffmpeg',\n",
    "                        '-r', f'{framerates[i]}',\n",
    "                        '-i', input,\n",
    "                        '-ss', start_t,\n",
    "                        '-t', length_t,\n",
    "                        '-vf', 'scale=160:128',\n",
    "                        '-r', '24',\n",
    "                        out])"
   ]
  },
  {
   "cell_type": "code",
   "execution_count": 21,
   "metadata": {},
   "outputs": [],
   "source": [
    "# horizontal concat all videos\n",
    "call = subprocess.call(['ffmpeg',\n",
    "'-i', f'D:/ibl-website-videos/proc/test/left.mp4',\n",
    "'-i', f'D:/ibl-website-videos/proc/test/right.mp4',\n",
    "'-filter_complex', 'hstack',\n",
    "'D:/ibl-website-videos/proc/test/left_right.mp4'])\n",
    "\n",
    "call = subprocess.call(['ffmpeg',\n",
    "'-i', f'D:/ibl-website-videos/proc/test/left_right.mp4',\n",
    "'-i', f'D:/ibl-website-videos/proc/test/body.mp4',\n",
    "'-filter_complex', 'hstack',\n",
    "'D:/ibl-website-videos/proc/test/left_right_body.mp4'])"
   ]
  },
  {
   "cell_type": "code",
   "execution_count": null,
   "metadata": {},
   "outputs": [],
   "source": []
  }
 ],
 "metadata": {
  "kernelspec": {
   "display_name": "Python 3.9.10 ('iblenv')",
   "language": "python",
   "name": "python3"
  },
  "language_info": {
   "codemirror_mode": {
    "name": "ipython",
    "version": 3
   },
   "file_extension": ".py",
   "mimetype": "text/x-python",
   "name": "python",
   "nbconvert_exporter": "python",
   "pygments_lexer": "ipython3",
   "version": "3.9.10"
  },
  "orig_nbformat": 4,
  "vscode": {
   "interpreter": {
    "hash": "4225be81b5357c529c38c12afdf9f4987fe9414ca9962627f4f2d77123f1f35a"
   }
  }
 },
 "nbformat": 4,
 "nbformat_minor": 2
}
